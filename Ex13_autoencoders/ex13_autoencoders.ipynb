{
  "nbformat": 4,
  "nbformat_minor": 0,
  "metadata": {
    "colab": {
      "provenance": []
    },
    "kernelspec": {
      "name": "python3",
      "display_name": "Python 3"
    },
    "language_info": {
      "name": "python"
    }
  },
  "cells": [
    {
      "cell_type": "code",
      "execution_count": 4,
      "metadata": {
        "id": "_VlmIivglEk0"
      },
      "outputs": [],
      "source": [
        "import numpy as np\n",
        "import tensorflow as tf\n",
        "from tensorflow.keras.layers import Input, Dense\n",
        "from tensorflow import keras\n",
        "from tensorflow.keras.models import Sequential\n",
        "from tensorflow.keras.models import Model"
      ]
    },
    {
      "cell_type": "markdown",
      "source": [
        "**Model architecture:**\n",
        "\n",
        "Creating a sequential model with three encoder layers and three decoder layers.\n",
        "\n",
        "The input layer takes a flattened MNIST image of size 784 (28x28 pixels) as input. The encoder layers use the 'relu' activation function, while the decoder layers use the 'sigmoid' activation function. We compile the autoencoder using the 'adam' optimizer and the 'binary_crossentropy' loss function."
      ],
      "metadata": {
        "id": "CzFwbdSKvH2m"
      }
    },
    {
      "cell_type": "code",
      "source": [
        "#Specifying only the architecture of the encoder\n",
        "model=Sequential([                                                      #dense means fully connected layer in ANN\n",
        "                  #Encoder layers\n",
        "                  Dense(units=128, input_shape=(784,), activation='relu'), # 1 encoder layer with 128 nodes with relu activation, input shape is an 784\n",
        "                  Dense(units=64, activation='relu'),                   # 2nd encoder layer with 64 nodes with relu activation\n",
        "                  Dense(units=32, activation='relu', name='encoder_output'),                  # 3rd encoder layer with 32 \n",
        "                  #Decoder layers\n",
        "                  Dense(units=64, activation='relu'),                    # 1st decoder layer with 64 nodes with relu activation,\n",
        "                  Dense(units=128, activation='relu'),                   # 2nd decoder layer with 128 nodes with relu activation\n",
        "                  Dense(units=784, activation='sigmoid')                  # Output layer with 784 nodes with sigmoid activation \n",
        "                  \n",
        "])"
      ],
      "metadata": {
        "id": "aaYkU1I_mJep"
      },
      "execution_count": 35,
      "outputs": []
    },
    {
      "cell_type": "markdown",
      "source": [
        "**Why not using softmax at the output layer?**\n",
        "\n",
        "In the context of autoencoders, the activation function used in the output layer depends on the type of data that the autoencoder is trained on.\n",
        "\n",
        "The sigmoid activation function is commonly used for binary classification problems, where the output is a single binary value (0 or 1). It maps the input value to a range between 0 and 1, which can be interpreted as the probability of the input belonging to the positive class.\n",
        "\n",
        "In the case of autoencoders, the input images are grayscale images with pixel values normalized between 0 and 1. Since the output of the autoencoder is also an image with pixel values between 0 and 1, the sigmoid activation function is a good choice for the output layer.\n",
        "\n",
        "On the other hand, the softmax activation function is commonly used for multi-class classification problems, where the output is a probability distribution over multiple classes. It maps the input value to a range between 0 and 1 and normalizes the output so that the sum of all output values equals 1.\n",
        "\n",
        "Therefore, in the context of autoencoders for image reconstruction, the sigmoid activation function is usually used in the output layer, while softmax is more suitable for classification problems."
      ],
      "metadata": {
        "id": "zpF-4fstGKY1"
      }
    },
    {
      "cell_type": "code",
      "source": [
        "model.summary()"
      ],
      "metadata": {
        "colab": {
          "base_uri": "https://localhost:8080/"
        },
        "id": "XT0xBrFqoJGd",
        "outputId": "d6f18643-1e5a-49f9-df09-af82370f3563"
      },
      "execution_count": 20,
      "outputs": [
        {
          "output_type": "stream",
          "name": "stdout",
          "text": [
            "Model: \"sequential_2\"\n",
            "_________________________________________________________________\n",
            " Layer (type)                Output Shape              Param #   \n",
            "=================================================================\n",
            " dense_33 (Dense)            (None, 128)               100480    \n",
            "                                                                 \n",
            " dense_34 (Dense)            (None, 64)                8256      \n",
            "                                                                 \n",
            " encoder_output (Dense)      (None, 32)                2080      \n",
            "                                                                 \n",
            " dense_35 (Dense)            (None, 64)                2112      \n",
            "                                                                 \n",
            " dense_36 (Dense)            (None, 128)               8320      \n",
            "                                                                 \n",
            " dense_37 (Dense)            (None, 784)               101136    \n",
            "                                                                 \n",
            "=================================================================\n",
            "Total params: 222,384\n",
            "Trainable params: 222,384\n",
            "Non-trainable params: 0\n",
            "_________________________________________________________________\n"
          ]
        }
      ]
    },
    {
      "cell_type": "markdown",
      "source": [
        "**Loss function in the autoencoders:**\n",
        "\n",
        "Autoencoders are typically used for dimensionality reduction and reconstruction of input data, not for classification. The output of the autoencoder is a reconstructed version of the input, and the quality of the reconstruction is evaluated using a loss metric such as mean squared error (MSE) or binary cross-entropy (BCE). The lower the value of the loss metric, the better the reconstruction quality. In the code I provided, the loss metric used is MSE, and the training and validation loss values are reported during training.\n",
        "\n",
        "Next, we load the MNIST dataset and normalize the data. We then train the autoencoder using the 'fit' method on the training data, with a batch"
      ],
      "metadata": {
        "id": "FqOEG0onr_0z"
      }
    },
    {
      "cell_type": "code",
      "source": [
        "# compile the autoencoder\n",
        "model.compile(optimizer='adam', loss='binary_crossentropy')"
      ],
      "metadata": {
        "id": "lEN52mX4oRWx"
      },
      "execution_count": 40,
      "outputs": []
    },
    {
      "cell_type": "markdown",
      "source": [
        "**Loading, preprocessing and splitting the MNIST dataset**"
      ],
      "metadata": {
        "id": "DYy9K87yoiX2"
      }
    },
    {
      "cell_type": "code",
      "source": [
        "# load the MNIST dataset\n",
        "(x_train, _), (x_test, _) = tf.keras.datasets.mnist.load_data()\n",
        "\n",
        "# normalize the data and flatten the images\n",
        "x_train = x_train.astype('float32') / 255.\n",
        "x_test = x_test.astype('float32') / 255.\n",
        "x_train = x_train.reshape((len(x_train), np.prod(x_train.shape[1:])))\n",
        "x_test = x_test.reshape((len(x_test), np.prod(x_test.shape[1:])))"
      ],
      "metadata": {
        "id": "bs_KhgSbobBO"
      },
      "execution_count": 41,
      "outputs": []
    },
    {
      "cell_type": "markdown",
      "source": [
        "**Training the model with the preprocessed data**"
      ],
      "metadata": {
        "id": "_q6WtPVpoqsn"
      }
    },
    {
      "cell_type": "code",
      "source": [
        "# train the autoencoder\n",
        "model.fit(x_train, x_train,epochs=50,\n",
        "                batch_size=256,\n",
        "                shuffle=True,\n",
        "                validation_data=(x_test, x_test))"
      ],
      "metadata": {
        "colab": {
          "base_uri": "https://localhost:8080/"
        },
        "id": "1A5_jF8qouan",
        "outputId": "753bb2b6-c02b-4fd4-8624-792e4cd1c4c7"
      },
      "execution_count": 42,
      "outputs": [
        {
          "output_type": "stream",
          "name": "stdout",
          "text": [
            "Epoch 1/50\n",
            "235/235 [==============================] - 7s 24ms/step - loss: 0.2534 - val_loss: 0.1710\n",
            "Epoch 2/50\n",
            "235/235 [==============================] - 4s 18ms/step - loss: 0.1518 - val_loss: 0.1379\n",
            "Epoch 3/50\n",
            "235/235 [==============================] - 5s 20ms/step - loss: 0.1328 - val_loss: 0.1256\n",
            "Epoch 4/50\n",
            "235/235 [==============================] - 5s 21ms/step - loss: 0.1238 - val_loss: 0.1189\n",
            "Epoch 5/50\n",
            "235/235 [==============================] - 4s 18ms/step - loss: 0.1182 - val_loss: 0.1144\n",
            "Epoch 6/50\n",
            "235/235 [==============================] - 5s 22ms/step - loss: 0.1137 - val_loss: 0.1108\n",
            "Epoch 7/50\n",
            "235/235 [==============================] - 4s 19ms/step - loss: 0.1103 - val_loss: 0.1079\n",
            "Epoch 8/50\n",
            "235/235 [==============================] - 4s 18ms/step - loss: 0.1078 - val_loss: 0.1055\n",
            "Epoch 9/50\n",
            "235/235 [==============================] - 5s 23ms/step - loss: 0.1057 - val_loss: 0.1036\n",
            "Epoch 10/50\n",
            "235/235 [==============================] - 4s 18ms/step - loss: 0.1037 - val_loss: 0.1018\n",
            "Epoch 11/50\n",
            "235/235 [==============================] - 4s 18ms/step - loss: 0.1018 - val_loss: 0.0998\n",
            "Epoch 12/50\n",
            "235/235 [==============================] - 5s 23ms/step - loss: 0.1001 - val_loss: 0.0983\n",
            "Epoch 13/50\n",
            "235/235 [==============================] - 4s 18ms/step - loss: 0.0986 - val_loss: 0.0972\n",
            "Epoch 14/50\n",
            "235/235 [==============================] - 4s 19ms/step - loss: 0.0975 - val_loss: 0.0960\n",
            "Epoch 15/50\n",
            "235/235 [==============================] - 5s 23ms/step - loss: 0.0964 - val_loss: 0.0951\n",
            "Epoch 16/50\n",
            "235/235 [==============================] - 4s 18ms/step - loss: 0.0956 - val_loss: 0.0941\n",
            "Epoch 17/50\n",
            "235/235 [==============================] - 5s 20ms/step - loss: 0.0948 - val_loss: 0.0940\n",
            "Epoch 18/50\n",
            "235/235 [==============================] - 5s 21ms/step - loss: 0.0942 - val_loss: 0.0929\n",
            "Epoch 19/50\n",
            "235/235 [==============================] - 4s 18ms/step - loss: 0.0935 - val_loss: 0.0923\n",
            "Epoch 20/50\n",
            "235/235 [==============================] - 5s 23ms/step - loss: 0.0929 - val_loss: 0.0916\n",
            "Epoch 21/50\n",
            "235/235 [==============================] - 4s 18ms/step - loss: 0.0923 - val_loss: 0.0913\n",
            "Epoch 22/50\n",
            "235/235 [==============================] - 4s 18ms/step - loss: 0.0918 - val_loss: 0.0909\n",
            "Epoch 23/50\n",
            "235/235 [==============================] - 5s 23ms/step - loss: 0.0913 - val_loss: 0.0906\n",
            "Epoch 24/50\n",
            "235/235 [==============================] - 4s 18ms/step - loss: 0.0909 - val_loss: 0.0899\n",
            "Epoch 25/50\n",
            "235/235 [==============================] - 4s 19ms/step - loss: 0.0905 - val_loss: 0.0894\n",
            "Epoch 26/50\n",
            "235/235 [==============================] - 5s 23ms/step - loss: 0.0901 - val_loss: 0.0892\n",
            "Epoch 27/50\n",
            "235/235 [==============================] - 4s 18ms/step - loss: 0.0898 - val_loss: 0.0892\n",
            "Epoch 28/50\n",
            "235/235 [==============================] - 5s 21ms/step - loss: 0.0895 - val_loss: 0.0889\n",
            "Epoch 29/50\n",
            "235/235 [==============================] - 5s 21ms/step - loss: 0.0892 - val_loss: 0.0884\n",
            "Epoch 30/50\n",
            "235/235 [==============================] - 4s 18ms/step - loss: 0.0889 - val_loss: 0.0881\n",
            "Epoch 31/50\n",
            "235/235 [==============================] - 5s 23ms/step - loss: 0.0886 - val_loss: 0.0880\n",
            "Epoch 32/50\n",
            "235/235 [==============================] - 4s 18ms/step - loss: 0.0884 - val_loss: 0.0876\n",
            "Epoch 33/50\n",
            "235/235 [==============================] - 4s 18ms/step - loss: 0.0881 - val_loss: 0.0876\n",
            "Epoch 34/50\n",
            "235/235 [==============================] - 5s 23ms/step - loss: 0.0879 - val_loss: 0.0873\n",
            "Epoch 35/50\n",
            "235/235 [==============================] - 4s 18ms/step - loss: 0.0877 - val_loss: 0.0868\n",
            "Epoch 36/50\n",
            "235/235 [==============================] - 4s 18ms/step - loss: 0.0874 - val_loss: 0.0868\n",
            "Epoch 37/50\n",
            "235/235 [==============================] - 5s 23ms/step - loss: 0.0872 - val_loss: 0.0867\n",
            "Epoch 38/50\n",
            "235/235 [==============================] - 4s 18ms/step - loss: 0.0870 - val_loss: 0.0866\n",
            "Epoch 39/50\n",
            "235/235 [==============================] - 5s 19ms/step - loss: 0.0868 - val_loss: 0.0859\n",
            "Epoch 40/50\n",
            "235/235 [==============================] - 5s 22ms/step - loss: 0.0865 - val_loss: 0.0858\n",
            "Epoch 41/50\n",
            "235/235 [==============================] - 4s 18ms/step - loss: 0.0863 - val_loss: 0.0858\n",
            "Epoch 42/50\n",
            "235/235 [==============================] - 5s 23ms/step - loss: 0.0861 - val_loss: 0.0853\n",
            "Epoch 43/50\n",
            "235/235 [==============================] - 4s 18ms/step - loss: 0.0859 - val_loss: 0.0858\n",
            "Epoch 44/50\n",
            "235/235 [==============================] - 4s 18ms/step - loss: 0.0858 - val_loss: 0.0851\n",
            "Epoch 45/50\n",
            "235/235 [==============================] - 5s 23ms/step - loss: 0.0856 - val_loss: 0.0848\n",
            "Epoch 46/50\n",
            "235/235 [==============================] - 4s 18ms/step - loss: 0.0854 - val_loss: 0.0847\n",
            "Epoch 47/50\n",
            "235/235 [==============================] - 4s 18ms/step - loss: 0.0852 - val_loss: 0.0846\n",
            "Epoch 48/50\n",
            "235/235 [==============================] - 5s 23ms/step - loss: 0.0851 - val_loss: 0.0846\n",
            "Epoch 49/50\n",
            "235/235 [==============================] - 4s 18ms/step - loss: 0.0850 - val_loss: 0.0843\n",
            "Epoch 50/50\n",
            "235/235 [==============================] - 4s 18ms/step - loss: 0.0848 - val_loss: 0.0843\n"
          ]
        },
        {
          "output_type": "execute_result",
          "data": {
            "text/plain": [
              "<keras.callbacks.History at 0x7fb145aa46a0>"
            ]
          },
          "metadata": {},
          "execution_count": 42
        }
      ]
    },
    {
      "cell_type": "markdown",
      "source": [
        "**Visualising the original image and reconstructed image**"
      ],
      "metadata": {
        "id": "d6n_dHhtvAyU"
      }
    },
    {
      "cell_type": "code",
      "source": [
        "import matplotlib.pyplot as plt\n",
        "\n",
        "# Get the reconstructed images\n",
        "reconstructed_imgs = model.predict(x_test)\n",
        "\n",
        "# Choose one image to visualize\n",
        "img_index = 1\n",
        "\n",
        "# Reshape the input and reconstructed images to their original shape\n",
        "input_img = x_test[img_index].reshape(28, 28)\n",
        "reconstructed_img = reconstructed_imgs[img_index].reshape(28, 28)\n",
        "\n",
        "# Plot the input and reconstructed images side by side\n",
        "fig, ax = plt.subplots(1, 2)\n",
        "ax[0].imshow(input_img, cmap='gray')\n",
        "ax[0].set_title('Input Image')\n",
        "ax[1].imshow(reconstructed_img, cmap='gray')\n",
        "ax[1].set_title('Reconstructed Image')\n",
        "plt.show()\n"
      ],
      "metadata": {
        "id": "nPl0U14iucLA",
        "outputId": "7937e0b4-af6c-4d51-b5a7-2f164bef3473",
        "colab": {
          "base_uri": "https://localhost:8080/",
          "height": 233
        }
      },
      "execution_count": 44,
      "outputs": [
        {
          "output_type": "stream",
          "name": "stdout",
          "text": [
            "313/313 [==============================] - 1s 2ms/step\n"
          ]
        },
        {
          "output_type": "display_data",
          "data": {
            "text/plain": [
              "<Figure size 432x288 with 2 Axes>"
            ],
            "image/png": "[encoded data removed]"
          },
          "metadata": {
            "needs_background": "light"
          }
        }
      ]
    },
    {
      "cell_type": "markdown",
      "source": [
        "**Obtaining the reduced dimensions:**\n",
        "\n",
        "The reduced dimension of the image is obtained from the encoder model, which maps the input image to a lower-dimensional latent space. To access the reduced dimension, you can use the predict() method of the encoder model on your input data. \n",
        "\n"
      ],
      "metadata": {
        "id": "y6h2XVqowjEa"
      }
    },
    {
      "cell_type": "code",
      "source": [
        "# Get the encoder model from the autoencoder\n",
        "encoder = Model(inputs=model.input, outputs=model.get_layer('encoder_output').output)\n",
        "\n",
        "# Get the reduced dimension of the input images\n",
        "encoded_imgs = encoder.predict(x_test)\n",
        "\n",
        "# Choose one image to visualize\n",
        "img_index = 1\n",
        "\n",
        "# Reshape the input and reconstructed images to their original shape\n",
        "print(x_test[img_index].shape)\n",
        "print(encoded_imgs[img_index].shape)"
      ],
      "metadata": {
        "id": "TiWc3jtdJlWt",
        "outputId": "ea92e3dd-02f4-4eb4-b8b8-98f69cced524",
        "colab": {
          "base_uri": "https://localhost:8080/"
        }
      },
      "execution_count": 47,
      "outputs": [
        {
          "output_type": "stream",
          "name": "stdout",
          "text": [
            "313/313 [==============================] - 1s 2ms/step\n",
            "(784,)\n",
            "(32,)\n"
          ]
        }
      ]
    },
    {
      "cell_type": "markdown",
      "source": [
        "You can see that the flattened data of 784 is reduced to 32 here!! "
      ],
      "metadata": {
        "id": "09iANVXWJlC6"
      }
    }
  ]
}