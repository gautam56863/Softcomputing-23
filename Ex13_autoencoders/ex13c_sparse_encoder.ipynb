{
  "nbformat": 4,
  "nbformat_minor": 0,
  "metadata": {
    "colab": {
      "provenance": []
    },
    "kernelspec": {
      "name": "python3",
      "display_name": "Python 3"
    },
    "language_info": {
      "name": "python"
    }
  },
  "cells": [
    {
      "cell_type": "code",
      "execution_count": null,
      "metadata": {
        "id": "DRyOAPXctLEB"
      },
      "outputs": [],
      "source": [
        "from keras.layers import Dense\n",
        "from keras.models import Sequential\n",
        "from keras import regularizers\n",
        "from keras import backend as K\n",
        "import tensorflow as tf\n",
        "\n",
        "# define the number of input neurons and hidden neurons\n",
        "n_input = 784  # input layer size\n",
        "n_hidden = 256  # hidden layer size"
      ]
    },
    {
      "cell_type": "markdown",
      "source": [
        "**Model architecture:**\n",
        "\n",
        "Here we are using autoencoder with single layer. input_img is defined as the input layer of the autoencoder with the shape of (n_input,). hidden_layer is defined as the only hidden layer of the autoencoder with a size of n_hidden. The activation function used for both the hidden layer and the output layer is sigmoid. The Dense layers define a fully connected neural network layer, and the Model function combines the encoder and decoder into an autoencoder."
      ],
      "metadata": {
        "id": "RUqF9mvCuLIo"
      }
    },
    {
      "cell_type": "code",
      "source": [
        "# define the input layer\n",
        "input_img = Input(shape=(n_input,))\n",
        "\n",
        "# define the encoder layers\n",
        "hidden_layer = Dense(n_hidden, activation='sigmoid',name='hidden_layer')(input_img)\n",
        "output_layer = Dense(n_input, activation='sigmoid')(hidden_layer)\n",
        "# Combine the encoder and decoder into an autoencoder\n",
        "autoencoder = Model(inputs=input_img, outputs=output_layer)"
      ],
      "metadata": {
        "id": "Db7cVUke0XsH"
      },
      "execution_count": null,
      "outputs": []
    },
    {
      "cell_type": "markdown",
      "source": [
        "**Loss function:**\n",
        "\n",
        "The autoencoder is then compiled using the sparse_loss function, which defines a custom loss function that combines a reconstruction loss (the difference between the input and reconstructed images) and a sparsity loss (the difference between the desired sparsity level and the actual sparsity of the hidden neurons). The sparsity loss is computed using the kl_divergence function, which computes the Kullback-Leibler divergence between the desired sparsity level and the actual sparsity of the hidden neurons."
      ],
      "metadata": {
        "id": "QzB6tJpCuWwf"
      }
    },
    {
      "cell_type": "code",
      "source": [
        "# define the sparsity constraint\n",
        "def kl_divergence(p, p_hat):\n",
        "    return p * K.log(p / p_hat) + (1 - p) * K.log((1 - p) / (1 - p_hat))\n",
        "\n",
        "def sparse_constraint(hidden_layer):\n",
        "    p_hat = K.mean(hidden_layer, axis=1)\n",
        "    return beta * K.sum(kl_divergence(sparsity, p_hat))"
      ],
      "metadata": {
        "id": "DrAOtEOdtpjQ"
      },
      "execution_count": null,
      "outputs": []
    },
    {
      "cell_type": "code",
      "source": [
        "# Compile the autoencoder with the sparsity loss\n",
        "autoencoder.add_loss(sparse_constraint(hidden_layer))\n",
        "autoencoder.compile(optimizer='adam', loss='mse')"
      ],
      "metadata": {
        "id": "gK8pwwNXtsDQ"
      },
      "execution_count": null,
      "outputs": []
    },
    {
      "cell_type": "code",
      "source": [
        "# load and preprocess the data\n",
        "from keras.datasets import mnist\n",
        "import numpy as np\n",
        "\n",
        "(x_train, _), (x_test, _) = mnist.load_data()\n",
        "x_train = x_train.astype('float32') / 255.\n",
        "x_test = x_test.astype('float32') / 255.\n",
        "x_train = x_train.reshape((len(x_train), np.prod(x_train.shape[1:])))\n",
        "x_test = x_test.reshape((len(x_test), np.prod(x_test.shape[1:])))\n",
        "\n",
        "# train the model\n",
        "autoencoder.fit(x_train, x_train,\n",
        "                epochs=50,\n",
        "                batch_size=256,\n",
        "                shuffle=True,\n",
        "                validation_data=(x_test, x_test))"
      ],
      "metadata": {
        "colab": {
          "base_uri": "https://localhost:8080/"
        },
        "id": "cMmFVqOSttYB",
        "outputId": "efe8dd47-1b2c-4f29-fc84-a4ae8a6d8ff6"
      },
      "execution_count": null,
      "outputs": [
        {
          "output_type": "stream",
          "name": "stdout",
          "text": [
            "Epoch 1/50\n",
            "235/235 [==============================] - 5s 19ms/step - loss: 17.2313 - val_loss: 2.6776\n",
            "Epoch 2/50\n",
            "235/235 [==============================] - 6s 25ms/step - loss: 1.4970 - val_loss: 0.7811\n",
            "Epoch 3/50\n",
            "235/235 [==============================] - 5s 20ms/step - loss: 0.5805 - val_loss: 0.4172\n",
            "Epoch 4/50\n",
            "235/235 [==============================] - 4s 18ms/step - loss: 0.3443 - val_loss: 0.2844\n",
            "Epoch 5/50\n",
            "235/235 [==============================] - 6s 24ms/step - loss: 0.2452 - val_loss: 0.2178\n",
            "Epoch 6/50\n",
            "235/235 [==============================] - 5s 21ms/step - loss: 0.1925 - val_loss: 0.1794\n",
            "Epoch 7/50\n",
            "235/235 [==============================] - 5s 20ms/step - loss: 0.1609 - val_loss: 0.1547\n",
            "Epoch 8/50\n",
            "235/235 [==============================] - 5s 22ms/step - loss: 0.1399 - val_loss: 0.1375\n",
            "Epoch 9/50\n",
            "235/235 [==============================] - 4s 19ms/step - loss: 0.1249 - val_loss: 0.1239\n",
            "Epoch 10/50\n",
            "235/235 [==============================] - 6s 24ms/step - loss: 0.1125 - val_loss: 0.1122\n",
            "Epoch 11/50\n",
            "235/235 [==============================] - 4s 19ms/step - loss: 0.1024 - val_loss: 0.1031\n",
            "Epoch 12/50\n",
            "235/235 [==============================] - 4s 18ms/step - loss: 0.0946 - val_loss: 0.0959\n",
            "Epoch 13/50\n",
            "235/235 [==============================] - 5s 23ms/step - loss: 0.0883 - val_loss: 0.0899\n",
            "Epoch 14/50\n",
            "235/235 [==============================] - 4s 19ms/step - loss: 0.0829 - val_loss: 0.0845\n",
            "Epoch 15/50\n",
            "235/235 [==============================] - 5s 20ms/step - loss: 0.0780 - val_loss: 0.0796\n",
            "Epoch 16/50\n",
            "235/235 [==============================] - 5s 22ms/step - loss: 0.0737 - val_loss: 0.0754\n",
            "Epoch 17/50\n",
            "235/235 [==============================] - 4s 19ms/step - loss: 0.0701 - val_loss: 0.0719\n",
            "Epoch 18/50\n",
            "235/235 [==============================] - 5s 23ms/step - loss: 0.0669 - val_loss: 0.0688\n",
            "Epoch 19/50\n",
            "235/235 [==============================] - 4s 19ms/step - loss: 0.0641 - val_loss: 0.0659\n",
            "Epoch 20/50\n",
            "235/235 [==============================] - 4s 19ms/step - loss: 0.0616 - val_loss: 0.0635\n",
            "Epoch 21/50\n",
            "235/235 [==============================] - 6s 24ms/step - loss: 0.0595 - val_loss: 0.0614\n",
            "Epoch 22/50\n",
            "235/235 [==============================] - 4s 19ms/step - loss: 0.0578 - val_loss: 0.0597\n",
            "Epoch 23/50\n",
            "235/235 [==============================] - 5s 22ms/step - loss: 0.0564 - val_loss: 0.0582\n",
            "Epoch 24/50\n",
            "235/235 [==============================] - 5s 20ms/step - loss: 0.0552 - val_loss: 0.0570\n",
            "Epoch 25/50\n",
            "235/235 [==============================] - 4s 18ms/step - loss: 0.0541 - val_loss: 0.0559\n",
            "Epoch 26/50\n",
            "235/235 [==============================] - 5s 23ms/step - loss: 0.0532 - val_loss: 0.0549\n",
            "Epoch 27/50\n",
            "235/235 [==============================] - 4s 18ms/step - loss: 0.0524 - val_loss: 0.0539\n",
            "Epoch 28/50\n",
            "235/235 [==============================] - 4s 18ms/step - loss: 0.0516 - val_loss: 0.0532\n",
            "Epoch 29/50\n",
            "235/235 [==============================] - 5s 23ms/step - loss: 0.0510 - val_loss: 0.0524\n",
            "Epoch 30/50\n",
            "235/235 [==============================] - 4s 18ms/step - loss: 0.0504 - val_loss: 0.0517\n",
            "Epoch 31/50\n",
            "235/235 [==============================] - 4s 18ms/step - loss: 0.0498 - val_loss: 0.0511\n",
            "Epoch 32/50\n",
            "235/235 [==============================] - 5s 22ms/step - loss: 0.0493 - val_loss: 0.0505\n",
            "Epoch 33/50\n",
            "235/235 [==============================] - 4s 17ms/step - loss: 0.0487 - val_loss: 0.0497\n",
            "Epoch 34/50\n",
            "235/235 [==============================] - 5s 20ms/step - loss: 0.0477 - val_loss: 0.0482\n",
            "Epoch 35/50\n",
            "235/235 [==============================] - 5s 21ms/step - loss: 0.0464 - val_loss: 0.0470\n",
            "Epoch 36/50\n",
            "235/235 [==============================] - 4s 18ms/step - loss: 0.0454 - val_loss: 0.0460\n",
            "Epoch 37/50\n",
            "235/235 [==============================] - 5s 23ms/step - loss: 0.0443 - val_loss: 0.0446\n",
            "Epoch 38/50\n",
            "235/235 [==============================] - 4s 17ms/step - loss: 0.0432 - val_loss: 0.0435\n",
            "Epoch 39/50\n",
            "235/235 [==============================] - 4s 18ms/step - loss: 0.0423 - val_loss: 0.0426\n",
            "Epoch 40/50\n",
            "235/235 [==============================] - 5s 22ms/step - loss: 0.0416 - val_loss: 0.0419\n",
            "Epoch 41/50\n",
            "235/235 [==============================] - 4s 18ms/step - loss: 0.0409 - val_loss: 0.0412\n",
            "Epoch 42/50\n",
            "235/235 [==============================] - 4s 18ms/step - loss: 0.0402 - val_loss: 0.0404\n",
            "Epoch 43/50\n",
            "235/235 [==============================] - 5s 23ms/step - loss: 0.0395 - val_loss: 0.0397\n",
            "Epoch 44/50\n",
            "235/235 [==============================] - 4s 18ms/step - loss: 0.0389 - val_loss: 0.0391\n",
            "Epoch 45/50\n",
            "235/235 [==============================] - 4s 18ms/step - loss: 0.0384 - val_loss: 0.0385\n",
            "Epoch 46/50\n",
            "235/235 [==============================] - 5s 23ms/step - loss: 0.0378 - val_loss: 0.0378\n",
            "Epoch 47/50\n",
            "235/235 [==============================] - 4s 18ms/step - loss: 0.0371 - val_loss: 0.0372\n",
            "Epoch 48/50\n",
            "235/235 [==============================] - 5s 20ms/step - loss: 0.0366 - val_loss: 0.0366\n",
            "Epoch 49/50\n",
            "235/235 [==============================] - 5s 20ms/step - loss: 0.0361 - val_loss: 0.0361\n",
            "Epoch 50/50\n",
            "235/235 [==============================] - 4s 18ms/step - loss: 0.0358 - val_loss: 0.0358\n"
          ]
        },
        {
          "output_type": "execute_result",
          "data": {
            "text/plain": [
              "<keras.callbacks.History at 0x7fac74a6fd60>"
            ]
          },
          "metadata": {},
          "execution_count": 43
        }
      ]
    },
    {
      "cell_type": "code",
      "source": [
        "import matplotlib.pyplot as plt\n",
        "\n",
        "# Get the reconstructed output from the autoencoder\n",
        "X_test=x_test\n",
        "reconstructed_val = autoencoder.predict(X_test)\n",
        "\n",
        "# Display the input and output images side by side\n",
        "n = 10  # Number of images to display\n",
        "plt.figure(figsize=(20, 4))\n",
        "for i in range(n):\n",
        "    # Display original\n",
        "    ax = plt.subplot(2, n, i + 1)\n",
        "    plt.imshow(X_test[i].reshape(28, 28))\n",
        "    plt.gray()\n",
        "    ax.get_xaxis().set_visible(False)\n",
        "    ax.get_yaxis().set_visible(False)\n",
        "\n",
        "    # Display reconstructed\n",
        "    ax = plt.subplot(2, n, i + n + 1)\n",
        "    plt.imshow(reconstructed_val[i].reshape(28, 28))\n",
        "    plt.gray()\n",
        "    ax.get_xaxis().set_visible(False)\n",
        "    ax.get_yaxis().set_visible(False)\n",
        "    \n",
        "plt.show()"
      ],
      "metadata": {
        "colab": {
          "base_uri": "https://localhost:8080/",
          "height": 261
        },
        "id": "sMzl-plcy_N3",
        "outputId": "809504f3-b66f-4e47-bd66-a63333111761"
      },
      "execution_count": null,
      "outputs": [
        {
          "output_type": "stream",
          "name": "stdout",
          "text": [
            "313/313 [==============================] - 1s 3ms/step\n"
          ]
        },
        {
          "output_type": "display_data",
          "data": {
            "text/plain": [
              "<Figure size 1440x288 with 20 Axes>"
            ],
            "image/png": "[encoded data removed]"
          },
          "metadata": {
            "needs_background": "light"
          }
        }
      ]
    },
    {
      "cell_type": "markdown",
      "source": [
        "**Visualising the reduced dimensions:**\n",
        "\n",
        "To visualize the reduced dimension values, you can extract the encoder model from the autoencoder and use it to transform the input data into the reduced dimension representation. You can then plot the reduced dimension values against each other to see if any patterns or clusters emerge.\n",
        "\n",
        "In this code, we extract the encoder model from the autoencoder using the Model function and specifying the input and output layers. We then use the encoder to transform the input data X_test into the reduced dimension representation X_encoded. Finally, we plot the reduced dimension values against each other using matplotlib, where X_encoded[:,0] and X_encoded[:,1] represent the first and second dimensions of the reduced representation, and y_test is the true label for each input data point. The cmap='jet' argument specifies the color map for the plot, and plt.colorbar(scatter) adds a color bar indicating the label values."
      ],
      "metadata": {
        "id": "65EpgmQ8zfU4"
      }
    },
    {
      "cell_type": "code",
      "source": [
        "import numpy as np\n",
        "from keras.models import Model\n",
        "import matplotlib.pyplot as plt\n",
        "\n",
        "# Extract the encoder model from the autoencoder\n",
        "encoder = Model(inputs=autoencoder.input, outputs=autoencoder.get_layer('hidden_layer').output)\n",
        "\n",
        "# Transform the input data into the reduced dimension representation\n",
        "X_encoded = encoder.predict(X_test)\n",
        "\n",
        "np.shape(X_encoded)"
      ],
      "metadata": {
        "colab": {
          "base_uri": "https://localhost:8080/"
        },
        "id": "YE1BA9F4zenH",
        "outputId": "5dabae51-2836-40e6-c32f-4d6b70b87b23"
      },
      "execution_count": null,
      "outputs": [
        {
          "output_type": "stream",
          "name": "stdout",
          "text": [
            "313/313 [==============================] - 1s 3ms/step\n"
          ]
        },
        {
          "output_type": "execute_result",
          "data": {
            "text/plain": [
              "(10000, 256)"
            ]
          },
          "metadata": {},
          "execution_count": 48
        }
      ]
    }
  ]
}